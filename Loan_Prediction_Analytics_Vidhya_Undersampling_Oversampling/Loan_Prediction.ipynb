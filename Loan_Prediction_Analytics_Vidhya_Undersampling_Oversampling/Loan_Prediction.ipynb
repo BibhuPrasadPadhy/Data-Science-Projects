{
 "cells": [
  {
   "cell_type": "code",
   "execution_count": 1,
   "metadata": {},
   "outputs": [],
   "source": [
    "import numpy as np\n",
    "import pandas as pd\n",
    "import matplotlib.pyplot as plt\n",
    "\n",
    "df = pd.read_csv(r'D:\\Datasets\\Loan Prediction\\train.csv')"
   ]
  },
  {
   "cell_type": "code",
   "execution_count": 2,
   "metadata": {},
   "outputs": [
    {
     "data": {
      "text/html": [
       "<div>\n",
       "<style scoped>\n",
       "    .dataframe tbody tr th:only-of-type {\n",
       "        vertical-align: middle;\n",
       "    }\n",
       "\n",
       "    .dataframe tbody tr th {\n",
       "        vertical-align: top;\n",
       "    }\n",
       "\n",
       "    .dataframe thead th {\n",
       "        text-align: right;\n",
       "    }\n",
       "</style>\n",
       "<table border=\"1\" class=\"dataframe\">\n",
       "  <thead>\n",
       "    <tr style=\"text-align: right;\">\n",
       "      <th></th>\n",
       "      <th>Loan_ID</th>\n",
       "      <th>Gender</th>\n",
       "      <th>Married</th>\n",
       "      <th>Dependents</th>\n",
       "      <th>Education</th>\n",
       "      <th>Self_Employed</th>\n",
       "      <th>ApplicantIncome</th>\n",
       "      <th>CoapplicantIncome</th>\n",
       "      <th>LoanAmount</th>\n",
       "      <th>Loan_Amount_Term</th>\n",
       "      <th>Credit_History</th>\n",
       "      <th>Property_Area</th>\n",
       "      <th>Loan_Status</th>\n",
       "    </tr>\n",
       "  </thead>\n",
       "  <tbody>\n",
       "    <tr>\n",
       "      <th>0</th>\n",
       "      <td>LP001002</td>\n",
       "      <td>Male</td>\n",
       "      <td>No</td>\n",
       "      <td>0</td>\n",
       "      <td>Graduate</td>\n",
       "      <td>No</td>\n",
       "      <td>5849</td>\n",
       "      <td>0.0</td>\n",
       "      <td>NaN</td>\n",
       "      <td>360.0</td>\n",
       "      <td>1.0</td>\n",
       "      <td>Urban</td>\n",
       "      <td>Y</td>\n",
       "    </tr>\n",
       "    <tr>\n",
       "      <th>1</th>\n",
       "      <td>LP001003</td>\n",
       "      <td>Male</td>\n",
       "      <td>Yes</td>\n",
       "      <td>1</td>\n",
       "      <td>Graduate</td>\n",
       "      <td>No</td>\n",
       "      <td>4583</td>\n",
       "      <td>1508.0</td>\n",
       "      <td>128.0</td>\n",
       "      <td>360.0</td>\n",
       "      <td>1.0</td>\n",
       "      <td>Rural</td>\n",
       "      <td>N</td>\n",
       "    </tr>\n",
       "    <tr>\n",
       "      <th>2</th>\n",
       "      <td>LP001005</td>\n",
       "      <td>Male</td>\n",
       "      <td>Yes</td>\n",
       "      <td>0</td>\n",
       "      <td>Graduate</td>\n",
       "      <td>Yes</td>\n",
       "      <td>3000</td>\n",
       "      <td>0.0</td>\n",
       "      <td>66.0</td>\n",
       "      <td>360.0</td>\n",
       "      <td>1.0</td>\n",
       "      <td>Urban</td>\n",
       "      <td>Y</td>\n",
       "    </tr>\n",
       "    <tr>\n",
       "      <th>3</th>\n",
       "      <td>LP001006</td>\n",
       "      <td>Male</td>\n",
       "      <td>Yes</td>\n",
       "      <td>0</td>\n",
       "      <td>Not Graduate</td>\n",
       "      <td>No</td>\n",
       "      <td>2583</td>\n",
       "      <td>2358.0</td>\n",
       "      <td>120.0</td>\n",
       "      <td>360.0</td>\n",
       "      <td>1.0</td>\n",
       "      <td>Urban</td>\n",
       "      <td>Y</td>\n",
       "    </tr>\n",
       "    <tr>\n",
       "      <th>4</th>\n",
       "      <td>LP001008</td>\n",
       "      <td>Male</td>\n",
       "      <td>No</td>\n",
       "      <td>0</td>\n",
       "      <td>Graduate</td>\n",
       "      <td>No</td>\n",
       "      <td>6000</td>\n",
       "      <td>0.0</td>\n",
       "      <td>141.0</td>\n",
       "      <td>360.0</td>\n",
       "      <td>1.0</td>\n",
       "      <td>Urban</td>\n",
       "      <td>Y</td>\n",
       "    </tr>\n",
       "  </tbody>\n",
       "</table>\n",
       "</div>"
      ],
      "text/plain": [
       "    Loan_ID Gender Married Dependents     Education Self_Employed  \\\n",
       "0  LP001002   Male      No          0      Graduate            No   \n",
       "1  LP001003   Male     Yes          1      Graduate            No   \n",
       "2  LP001005   Male     Yes          0      Graduate           Yes   \n",
       "3  LP001006   Male     Yes          0  Not Graduate            No   \n",
       "4  LP001008   Male      No          0      Graduate            No   \n",
       "\n",
       "   ApplicantIncome  CoapplicantIncome  LoanAmount  Loan_Amount_Term  \\\n",
       "0             5849                0.0         NaN             360.0   \n",
       "1             4583             1508.0       128.0             360.0   \n",
       "2             3000                0.0        66.0             360.0   \n",
       "3             2583             2358.0       120.0             360.0   \n",
       "4             6000                0.0       141.0             360.0   \n",
       "\n",
       "   Credit_History Property_Area Loan_Status  \n",
       "0             1.0         Urban           Y  \n",
       "1             1.0         Rural           N  \n",
       "2             1.0         Urban           Y  \n",
       "3             1.0         Urban           Y  \n",
       "4             1.0         Urban           Y  "
      ]
     },
     "execution_count": 2,
     "metadata": {},
     "output_type": "execute_result"
    }
   ],
   "source": [
    "df.head() #Top 5 records"
   ]
  },
  {
   "cell_type": "code",
   "execution_count": 3,
   "metadata": {},
   "outputs": [
    {
     "data": {
      "text/plain": [
       "<matplotlib.axes._subplots.AxesSubplot at 0x292ba7cf908>"
      ]
     },
     "execution_count": 3,
     "metadata": {},
     "output_type": "execute_result"
    },
    {
     "data": {
      "image/png": "[encoded data removed]",
      "text/plain": [
       "<Figure size 432x288 with 1 Axes>"
      ]
     },
     "metadata": {},
     "output_type": "display_data"
    }
   ],
   "source": [
    "df['Loan_Status'].value_counts().plot.bar() #Frequency distribution via bar plot"
   ]
  },
  {
   "cell_type": "markdown",
   "metadata": {},
   "source": [
    "Clearly it is evident that the target variable or dependent variable is imbalanced towards class = 'Y'. Let us see how much imbalance is there by taking value count"
   ]
  },
  {
   "cell_type": "code",
   "execution_count": 4,
   "metadata": {},
   "outputs": [
    {
     "data": {
      "text/plain": [
       "Y    422\n",
       "N    192\n",
       "Name: Loan_Status, dtype: int64"
      ]
     },
     "execution_count": 4,
     "metadata": {},
     "output_type": "execute_result"
    }
   ],
   "source": [
    "df['Loan_Status'].value_counts() #Frequency distribution table for target class \"Loan_Status\""
   ]
  },
  {
   "cell_type": "markdown",
   "metadata": {},
   "source": [
    "It can be clearly seen that we have 422 observations or training examples for which the Loan status is 'Y' and 192 for which Loan_Status is 'N'\n",
    "\n",
    "There are several ways to resolve this issue, Major ones being :\n",
    "    1.Random Over-Sampling\n",
    "    2.Random Under-Sampling\n",
    "    3.By assigning class_weight in Random Forest\n",
    "    4.Ada-boost \n",
    "    5.GBM \n",
    "    6.XGBoost\n",
    "    \n",
    "We will have look at each one of them.\n",
    "\n",
    "For now let us proceed to the first method that is Random Over-Sampling , Let us start with Re-Sampling."
   ]
  },
  {
   "cell_type": "markdown",
   "metadata": {},
   "source": [
    "# Resampling\n",
    "\n",
    "A widely adopted technique for dealing with highly unbalanced datasets is called resampling. It consists of removing samples from the majority class (under-sampling) and / or adding more examples from the minority class (over-sampling).\n",
    "\n",
    "Let us first split the data-set by class 'Y' and 'N'\n",
    "\n"
   ]
  },
  {
   "cell_type": "code",
   "execution_count": 5,
   "metadata": {},
   "outputs": [],
   "source": [
    "df_Y = df[df['Loan_Status']=='Y']\n",
    "df_N = df[df['Loan_Status']=='N']"
   ]
  },
  {
   "cell_type": "markdown",
   "metadata": {},
   "source": [
    "Let us first start with Random Under-sampling"
   ]
  },
  {
   "cell_type": "code",
   "execution_count": 6,
   "metadata": {},
   "outputs": [],
   "source": [
    "count_y,count_N = df['Loan_Status'].value_counts()\n",
    "df_Y_under = df_Y.sample(count_N)"
   ]
  },
  {
   "cell_type": "code",
   "execution_count": 7,
   "metadata": {},
   "outputs": [],
   "source": [
    "df_under = pd.concat([df_Y_under,df_N],axis=0)"
   ]
  },
  {
   "cell_type": "code",
   "execution_count": 8,
   "metadata": {},
   "outputs": [
    {
     "data": {
      "text/plain": [
       "(384, 13)"
      ]
     },
     "execution_count": 8,
     "metadata": {},
     "output_type": "execute_result"
    }
   ],
   "source": [
    "df_under.shape"
   ]
  },
  {
   "cell_type": "code",
   "execution_count": 9,
   "metadata": {},
   "outputs": [
    {
     "data": {
      "text/plain": [
       "<matplotlib.axes._subplots.AxesSubplot at 0x292ba927c88>"
      ]
     },
     "execution_count": 9,
     "metadata": {},
     "output_type": "execute_result"
    },
    {
     "data": {
      "image/png": "[encoded data removed]",
      "text/plain": [
       "<Figure size 432x288 with 1 Axes>"
      ]
     },
     "metadata": {},
     "output_type": "display_data"
    }
   ],
   "source": [
    "df_under['Loan_Status'].value_counts().plot.bar()"
   ]
  },
  {
   "cell_type": "code",
   "execution_count": 10,
   "metadata": {},
   "outputs": [
    {
     "data": {
      "text/plain": [
       "N    192\n",
       "Y    192\n",
       "Name: Loan_Status, dtype: int64"
      ]
     },
     "execution_count": 10,
     "metadata": {},
     "output_type": "execute_result"
    }
   ],
   "source": [
    "df_under['Loan_Status'].value_counts()"
   ]
  },
  {
   "cell_type": "raw",
   "metadata": {},
   "source": [
    "Now let us do Random Over-Sampling"
   ]
  },
  {
   "cell_type": "code",
   "execution_count": 11,
   "metadata": {},
   "outputs": [],
   "source": [
    "df_N_over = df_N.sample(count_y,replace=True)"
   ]
  },
  {
   "cell_type": "code",
   "execution_count": 12,
   "metadata": {},
   "outputs": [
    {
     "data": {
      "text/plain": [
       "(422, 13)"
      ]
     },
     "execution_count": 12,
     "metadata": {},
     "output_type": "execute_result"
    }
   ],
   "source": [
    "df_N_over.shape"
   ]
  },
  {
   "cell_type": "code",
   "execution_count": 13,
   "metadata": {},
   "outputs": [
    {
     "data": {
      "text/plain": [
       "(422, 13)"
      ]
     },
     "execution_count": 13,
     "metadata": {},
     "output_type": "execute_result"
    }
   ],
   "source": [
    "df_Y.shape"
   ]
  },
  {
   "cell_type": "code",
   "execution_count": 14,
   "metadata": {},
   "outputs": [],
   "source": [
    "df_over = pd.concat([df_Y,df_N_over],axis=0)"
   ]
  },
  {
   "cell_type": "code",
   "execution_count": 15,
   "metadata": {},
   "outputs": [
    {
     "data": {
      "text/plain": [
       "(844, 13)"
      ]
     },
     "execution_count": 15,
     "metadata": {},
     "output_type": "execute_result"
    }
   ],
   "source": [
    "df_over.shape"
   ]
  },
  {
   "cell_type": "code",
   "execution_count": 16,
   "metadata": {},
   "outputs": [
    {
     "data": {
      "text/plain": [
       "(384, 13)"
      ]
     },
     "execution_count": 16,
     "metadata": {},
     "output_type": "execute_result"
    }
   ],
   "source": [
    "df_under.shape"
   ]
  },
  {
   "cell_type": "raw",
   "metadata": {},
   "source": [
    "Now we have two dataframes , One is under-sampled and the other one is over-samples. \n",
    "We have solved the issue of class imbalance in this dataset.\n",
    "\n",
    "But Re-sampling has disadvantages as well like under-sampling might lead to information loss and over-sampling might lead to over-fitting.\n",
    "\n",
    "So, Let us see how they perform using different algorithms after doing EDA for over-sampled data-set and then let's head over to under-sampled one"
   ]
  },
  {
   "cell_type": "code",
   "execution_count": 17,
   "metadata": {},
   "outputs": [
    {
     "data": {
      "text/html": [
       "<div>\n",
       "<style scoped>\n",
       "    .dataframe tbody tr th:only-of-type {\n",
       "        vertical-align: middle;\n",
       "    }\n",
       "\n",
       "    .dataframe tbody tr th {\n",
       "        vertical-align: top;\n",
       "    }\n",
       "\n",
       "    .dataframe thead th {\n",
       "        text-align: right;\n",
       "    }\n",
       "</style>\n",
       "<table border=\"1\" class=\"dataframe\">\n",
       "  <thead>\n",
       "    <tr style=\"text-align: right;\">\n",
       "      <th></th>\n",
       "      <th>ApplicantIncome</th>\n",
       "      <th>CoapplicantIncome</th>\n",
       "      <th>LoanAmount</th>\n",
       "      <th>Loan_Amount_Term</th>\n",
       "      <th>Credit_History</th>\n",
       "    </tr>\n",
       "  </thead>\n",
       "  <tbody>\n",
       "    <tr>\n",
       "      <th>count</th>\n",
       "      <td>844.000000</td>\n",
       "      <td>844.000000</td>\n",
       "      <td>806.000000</td>\n",
       "      <td>822.000000</td>\n",
       "      <td>779.000000</td>\n",
       "    </tr>\n",
       "    <tr>\n",
       "      <th>mean</th>\n",
       "      <td>5286.207346</td>\n",
       "      <td>1712.831659</td>\n",
       "      <td>146.576923</td>\n",
       "      <td>344.788321</td>\n",
       "      <td>0.754814</td>\n",
       "    </tr>\n",
       "    <tr>\n",
       "      <th>std</th>\n",
       "      <td>6109.106635</td>\n",
       "      <td>3547.015891</td>\n",
       "      <td>83.047339</td>\n",
       "      <td>63.742184</td>\n",
       "      <td>0.430474</td>\n",
       "    </tr>\n",
       "    <tr>\n",
       "      <th>min</th>\n",
       "      <td>150.000000</td>\n",
       "      <td>0.000000</td>\n",
       "      <td>17.000000</td>\n",
       "      <td>12.000000</td>\n",
       "      <td>0.000000</td>\n",
       "    </tr>\n",
       "    <tr>\n",
       "      <th>25%</th>\n",
       "      <td>2761.750000</td>\n",
       "      <td>0.000000</td>\n",
       "      <td>100.000000</td>\n",
       "      <td>360.000000</td>\n",
       "      <td>1.000000</td>\n",
       "    </tr>\n",
       "    <tr>\n",
       "      <th>50%</th>\n",
       "      <td>3717.000000</td>\n",
       "      <td>1084.500000</td>\n",
       "      <td>128.000000</td>\n",
       "      <td>360.000000</td>\n",
       "      <td>1.000000</td>\n",
       "    </tr>\n",
       "    <tr>\n",
       "      <th>75%</th>\n",
       "      <td>5717.500000</td>\n",
       "      <td>2333.750000</td>\n",
       "      <td>165.750000</td>\n",
       "      <td>360.000000</td>\n",
       "      <td>1.000000</td>\n",
       "    </tr>\n",
       "    <tr>\n",
       "      <th>max</th>\n",
       "      <td>81000.000000</td>\n",
       "      <td>41667.000000</td>\n",
       "      <td>700.000000</td>\n",
       "      <td>480.000000</td>\n",
       "      <td>1.000000</td>\n",
       "    </tr>\n",
       "  </tbody>\n",
       "</table>\n",
       "</div>"
      ],
      "text/plain": [
       "       ApplicantIncome  CoapplicantIncome  LoanAmount  Loan_Amount_Term  \\\n",
       "count       844.000000         844.000000  806.000000        822.000000   \n",
       "mean       5286.207346        1712.831659  146.576923        344.788321   \n",
       "std        6109.106635        3547.015891   83.047339         63.742184   \n",
       "min         150.000000           0.000000   17.000000         12.000000   \n",
       "25%        2761.750000           0.000000  100.000000        360.000000   \n",
       "50%        3717.000000        1084.500000  128.000000        360.000000   \n",
       "75%        5717.500000        2333.750000  165.750000        360.000000   \n",
       "max       81000.000000       41667.000000  700.000000        480.000000   \n",
       "\n",
       "       Credit_History  \n",
       "count      779.000000  \n",
       "mean         0.754814  \n",
       "std          0.430474  \n",
       "min          0.000000  \n",
       "25%          1.000000  \n",
       "50%          1.000000  \n",
       "75%          1.000000  \n",
       "max          1.000000  "
      ]
     },
     "execution_count": 17,
     "metadata": {},
     "output_type": "execute_result"
    }
   ],
   "source": [
    "df_over.describe()"
   ]
  },
  {
   "cell_type": "raw",
   "metadata": {},
   "source": [
    "Inference :\n",
    "you can clearly see that there are few records missing for numeric features \"LoanAmount\",\"Loan_Amount_Term\" and \"Credit_History\".We have to treat those null values\n",
    "\n",
    "Note : We have not checked null values for categorical columns"
   ]
  },
  {
   "cell_type": "code",
   "execution_count": 18,
   "metadata": {},
   "outputs": [
    {
     "data": {
      "text/plain": [
       "Loan_ID               0\n",
       "Gender               21\n",
       "Married               3\n",
       "Dependents           24\n",
       "Education             0\n",
       "Self_Employed        37\n",
       "ApplicantIncome       0\n",
       "CoapplicantIncome     0\n",
       "LoanAmount           38\n",
       "Loan_Amount_Term     22\n",
       "Credit_History       65\n",
       "Property_Area         0\n",
       "Loan_Status           0\n",
       "dtype: int64"
      ]
     },
     "execution_count": 18,
     "metadata": {},
     "output_type": "execute_result"
    }
   ],
   "source": [
    "df_over.isnull().sum() #Gives null values for all the features"
   ]
  },
  {
   "cell_type": "code",
   "execution_count": 19,
   "metadata": {},
   "outputs": [
    {
     "data": {
      "text/plain": [
       "Loan_ID               0\n",
       "Gender                7\n",
       "Married               1\n",
       "Dependents           12\n",
       "Education             0\n",
       "Self_Employed        20\n",
       "ApplicantIncome       0\n",
       "CoapplicantIncome     0\n",
       "LoanAmount           16\n",
       "Loan_Amount_Term     13\n",
       "Credit_History       28\n",
       "Property_Area         0\n",
       "Loan_Status           0\n",
       "dtype: int64"
      ]
     },
     "execution_count": 19,
     "metadata": {},
     "output_type": "execute_result"
    }
   ],
   "source": [
    "df_under.isnull().sum()"
   ]
  },
  {
   "cell_type": "raw",
   "metadata": {},
   "source": [
    "Let's treat all the null values by replacing median/mode/mean"
   ]
  },
  {
   "cell_type": "code",
   "execution_count": 123,
   "metadata": {},
   "outputs": [],
   "source": [
    "df_over['Gender'].fillna(df_over['Gender'].mode()[0],inplace=True)\n",
    "df_over['Married'].fillna(df_over['Married'].mode()[0],inplace=True)\n",
    "df_over['Dependents'].fillna(df_over['Dependents'].mode()[0],inplace=True)\n",
    "df_over['Self_Employed'].fillna(df_over['Self_Employed'].mode()[0],inplace=True)\n",
    "df_over['LoanAmount'].fillna(df_over['LoanAmount'].mean(),inplace=True)\n",
    "df_over['Loan_Amount_Term'].fillna(df_over['Loan_Amount_Term'].mean(),inplace=True)\n",
    "df_over['Credit_History'].fillna(df_over['Credit_History'].mode()[0],inplace=True)\n",
    "\n",
    "df_under['Gender'].fillna(df_under['Gender'].mode()[0],inplace=True)\n",
    "df_under['Married'].fillna(df_under['Married'].mode()[0],inplace=True)\n",
    "df_under['Dependents'].fillna(df_under['Dependents'].mode()[0],inplace=True)\n",
    "df_under['Self_Employed'].fillna(df_under['Self_Employed'].mode()[0],inplace=True)\n",
    "df_under['LoanAmount'].fillna(df_under['LoanAmount'].mean(),inplace=True)\n",
    "df_under['Loan_Amount_Term'].fillna(df_under['Loan_Amount_Term'].mean(),inplace=True)\n",
    "df_under['Credit_History'].fillna(df_under['Credit_History'].mode()[0],inplace=True)\n",
    "\n",
    "df['Gender'].fillna(df['Gender'].mode()[0],inplace=True)\n",
    "df['Married'].fillna(df['Married'].mode()[0],inplace=True)\n",
    "df['Dependents'].fillna(df['Dependents'].mode()[0],inplace=True)\n",
    "df['Self_Employed'].fillna(df['Self_Employed'].mode()[0],inplace=True)\n",
    "df['LoanAmount'].fillna(df['LoanAmount'].mean(),inplace=True)\n",
    "df['Loan_Amount_Term'].fillna(df['Loan_Amount_Term'].mean(),inplace=True)\n",
    "df['Credit_History'].fillna(df['Credit_History'].mode()[0],inplace=True)"
   ]
  },
  {
   "cell_type": "raw",
   "metadata": {},
   "source": [
    "Let's check null value of all the features again"
   ]
  },
  {
   "cell_type": "code",
   "execution_count": 21,
   "metadata": {},
   "outputs": [
    {
     "data": {
      "text/plain": [
       "Loan_ID              0\n",
       "Gender               0\n",
       "Married              0\n",
       "Dependents           0\n",
       "Education            0\n",
       "Self_Employed        0\n",
       "ApplicantIncome      0\n",
       "CoapplicantIncome    0\n",
       "LoanAmount           0\n",
       "Loan_Amount_Term     0\n",
       "Credit_History       0\n",
       "Property_Area        0\n",
       "Loan_Status          0\n",
       "dtype: int64"
      ]
     },
     "execution_count": 21,
     "metadata": {},
     "output_type": "execute_result"
    }
   ],
   "source": [
    "df_over.isnull().sum()"
   ]
  },
  {
   "cell_type": "code",
   "execution_count": 22,
   "metadata": {},
   "outputs": [
    {
     "data": {
      "text/plain": [
       "Loan_ID              0\n",
       "Gender               0\n",
       "Married              0\n",
       "Dependents           0\n",
       "Education            0\n",
       "Self_Employed        0\n",
       "ApplicantIncome      0\n",
       "CoapplicantIncome    0\n",
       "LoanAmount           0\n",
       "Loan_Amount_Term     0\n",
       "Credit_History       0\n",
       "Property_Area        0\n",
       "Loan_Status          0\n",
       "dtype: int64"
      ]
     },
     "execution_count": 22,
     "metadata": {},
     "output_type": "execute_result"
    }
   ],
   "source": [
    "df_under.isnull().sum()"
   ]
  },
  {
   "cell_type": "code",
   "execution_count": 124,
   "metadata": {},
   "outputs": [
    {
     "data": {
      "text/plain": [
       "Loan_ID              0\n",
       "Gender               0\n",
       "Married              0\n",
       "Dependents           0\n",
       "Education            0\n",
       "Self_Employed        0\n",
       "ApplicantIncome      0\n",
       "CoapplicantIncome    0\n",
       "LoanAmount           0\n",
       "Loan_Amount_Term     0\n",
       "Credit_History       0\n",
       "Property_Area        0\n",
       "Loan_Status          0\n",
       "dtype: int64"
      ]
     },
     "execution_count": 124,
     "metadata": {},
     "output_type": "execute_result"
    }
   ],
   "source": [
    "df.isnull().sum()"
   ]
  },
  {
   "cell_type": "raw",
   "metadata": {},
   "source": [
    "All the null values have been treated, Now let's do some univariate analysis"
   ]
  },
  {
   "cell_type": "markdown",
   "metadata": {},
   "source": [
    "# EDA\n",
    "\n",
    "We will only do it for df_over DataFrame. "
   ]
  },
  {
   "cell_type": "code",
   "execution_count": 23,
   "metadata": {},
   "outputs": [],
   "source": [
    "df_over = df_over.iloc[:,1:]"
   ]
  },
  {
   "cell_type": "raw",
   "metadata": {},
   "source": [
    "Let's start with categorical variables frequency distribution"
   ]
  },
  {
   "cell_type": "code",
   "execution_count": 24,
   "metadata": {},
   "outputs": [
    {
     "data": {
      "text/plain": [
       "Male      702\n",
       "Female    142\n",
       "Name: Gender, dtype: int64"
      ]
     },
     "execution_count": 24,
     "metadata": {},
     "output_type": "execute_result"
    }
   ],
   "source": [
    "df_over['Gender'].value_counts()"
   ]
  },
  {
   "cell_type": "code",
   "execution_count": 25,
   "metadata": {},
   "outputs": [
    {
     "data": {
      "text/plain": [
       "<matplotlib.axes._subplots.AxesSubplot at 0x292ba9a0828>"
      ]
     },
     "execution_count": 25,
     "metadata": {},
     "output_type": "execute_result"
    },
    {
     "data": {
      "image/png": "[encoded data removed]",
      "text/plain": [
       "<Figure size 432x288 with 1 Axes>"
      ]
     },
     "metadata": {},
     "output_type": "display_data"
    }
   ],
   "source": [
    "df_over['Gender'].value_counts().plot.bar()"
   ]
  },
  {
   "cell_type": "code",
   "execution_count": 26,
   "metadata": {},
   "outputs": [
    {
     "data": {
      "text/plain": [
       "Male      347\n",
       "Female     75\n",
       "Name: Gender, dtype: int64"
      ]
     },
     "execution_count": 26,
     "metadata": {},
     "output_type": "execute_result"
    }
   ],
   "source": [
    "df_over[df_over['Loan_Status']=='Y']['Gender'].value_counts()"
   ]
  },
  {
   "cell_type": "code",
   "execution_count": 27,
   "metadata": {},
   "outputs": [
    {
     "data": {
      "text/plain": [
       "Male      355\n",
       "Female     67\n",
       "Name: Gender, dtype: int64"
      ]
     },
     "execution_count": 27,
     "metadata": {},
     "output_type": "execute_result"
    }
   ],
   "source": [
    "df_over[df_over['Loan_Status']=='N']['Gender'].value_counts()"
   ]
  },
  {
   "cell_type": "code",
   "execution_count": 28,
   "metadata": {},
   "outputs": [
    {
     "data": {
      "text/plain": [
       "<matplotlib.axes._subplots.AxesSubplot at 0x292ba9beb00>"
      ]
     },
     "execution_count": 28,
     "metadata": {},
     "output_type": "execute_result"
    },
    {
     "data": {
      "image/png": "[encoded data removed]",
      "text/plain": [
       "<Figure size 432x288 with 1 Axes>"
      ]
     },
     "metadata": {},
     "output_type": "display_data"
    }
   ],
   "source": [
    "df_over[df_over['Loan_Status']=='Y']['Gender'].value_counts().plot.bar()"
   ]
  },
  {
   "cell_type": "code",
   "execution_count": 29,
   "metadata": {},
   "outputs": [
    {
     "data": {
      "text/plain": [
       "<matplotlib.axes._subplots.AxesSubplot at 0x292ba997908>"
      ]
     },
     "execution_count": 29,
     "metadata": {},
     "output_type": "execute_result"
    },
    {
     "data": {
      "image/png": "[encoded data removed]",
      "text/plain": [
       "<Figure size 432x288 with 1 Axes>"
      ]
     },
     "metadata": {},
     "output_type": "display_data"
    }
   ],
   "source": [
    "df_over[df_over['Loan_Status']=='N']['Gender'].value_counts().plot.bar()"
   ]
  },
  {
   "cell_type": "code",
   "execution_count": 30,
   "metadata": {},
   "outputs": [],
   "source": [
    "a=347/692*100\n",
    "b=75/152*100"
   ]
  },
  {
   "cell_type": "code",
   "execution_count": 31,
   "metadata": {},
   "outputs": [
    {
     "name": "stdout",
     "output_type": "stream",
     "text": [
      "Percentage of Male who got loan approved :  50.144508670520224\n",
      "Percentage of Female who got loan approved :  49.34210526315789\n"
     ]
    }
   ],
   "source": [
    "print('Percentage of Male who got loan approved : ',a)\n",
    "print('Percentage of Female who got loan approved : ',b)"
   ]
  },
  {
   "cell_type": "raw",
   "metadata": {},
   "source": [
    "So, It proves that Gender is not a criteria behind loan approval"
   ]
  },
  {
   "cell_type": "code",
   "execution_count": 32,
   "metadata": {},
   "outputs": [
    {
     "data": {
      "text/plain": [
       "Yes    540\n",
       "No     304\n",
       "Name: Married, dtype: int64"
      ]
     },
     "execution_count": 32,
     "metadata": {},
     "output_type": "execute_result"
    }
   ],
   "source": [
    "df_over['Married'].value_counts()"
   ]
  },
  {
   "cell_type": "code",
   "execution_count": 33,
   "metadata": {},
   "outputs": [
    {
     "data": {
      "text/plain": [
       "<matplotlib.axes._subplots.AxesSubplot at 0x292baad10f0>"
      ]
     },
     "execution_count": 33,
     "metadata": {},
     "output_type": "execute_result"
    },
    {
     "data": {
      "image/png": "[encoded data removed]",
      "text/plain": [
       "<Figure size 432x288 with 1 Axes>"
      ]
     },
     "metadata": {},
     "output_type": "display_data"
    }
   ],
   "source": [
    "df_over['Married'].value_counts().plot.bar()"
   ]
  },
  {
   "cell_type": "code",
   "execution_count": 34,
   "metadata": {},
   "outputs": [
    {
     "data": {
      "text/plain": [
       "Yes    288\n",
       "No     134\n",
       "Name: Married, dtype: int64"
      ]
     },
     "execution_count": 34,
     "metadata": {},
     "output_type": "execute_result"
    }
   ],
   "source": [
    "df_over[df_over['Loan_Status']=='Y']['Married'].value_counts()"
   ]
  },
  {
   "cell_type": "code",
   "execution_count": 35,
   "metadata": {},
   "outputs": [
    {
     "data": {
      "text/plain": [
       "Yes    252\n",
       "No     170\n",
       "Name: Married, dtype: int64"
      ]
     },
     "execution_count": 35,
     "metadata": {},
     "output_type": "execute_result"
    }
   ],
   "source": [
    "df_over[df_over['Loan_Status']=='N']['Married'].value_counts()"
   ]
  },
  {
   "cell_type": "code",
   "execution_count": 36,
   "metadata": {},
   "outputs": [
    {
     "data": {
      "text/plain": [
       "<matplotlib.axes._subplots.AxesSubplot at 0x292bab40908>"
      ]
     },
     "execution_count": 36,
     "metadata": {},
     "output_type": "execute_result"
    },
    {
     "data": {
      "image/png": "[encoded data removed]",
      "text/plain": [
       "<Figure size 432x288 with 1 Axes>"
      ]
     },
     "metadata": {},
     "output_type": "display_data"
    }
   ],
   "source": [
    "df_over[df_over['Loan_Status']=='Y']['Married'].value_counts().plot.bar()"
   ]
  },
  {
   "cell_type": "code",
   "execution_count": 37,
   "metadata": {},
   "outputs": [
    {
     "data": {
      "text/plain": [
       "<matplotlib.axes._subplots.AxesSubplot at 0x292baba37f0>"
      ]
     },
     "execution_count": 37,
     "metadata": {},
     "output_type": "execute_result"
    },
    {
     "data": {
      "image/png": "[encoded data removed]",
      "text/plain": [
       "<Figure size 432x288 with 1 Axes>"
      ]
     },
     "metadata": {},
     "output_type": "display_data"
    }
   ],
   "source": [
    "df_over[df_over['Loan_Status']=='N']['Married'].value_counts().plot.bar()"
   ]
  },
  {
   "cell_type": "code",
   "execution_count": 38,
   "metadata": {},
   "outputs": [],
   "source": [
    "a=(288/(288+258))*100\n",
    "b=134/298*100"
   ]
  },
  {
   "cell_type": "code",
   "execution_count": 39,
   "metadata": {},
   "outputs": [
    {
     "name": "stdout",
     "output_type": "stream",
     "text": [
      "Percentage of Married who got loan approved :  52.74725274725275\n",
      "Percentage of Un-Married who got loan approved :  44.966442953020135\n"
     ]
    }
   ],
   "source": [
    "print('Percentage of Married who got loan approved : ',a)\n",
    "print('Percentage of Un-Married who got loan approved : ',b)"
   ]
  },
  {
   "cell_type": "code",
   "execution_count": 40,
   "metadata": {},
   "outputs": [
    {
     "data": {
      "text/plain": [
       "0     509\n",
       "1     136\n",
       "2     130\n",
       "3+     69\n",
       "Name: Dependents, dtype: int64"
      ]
     },
     "execution_count": 40,
     "metadata": {},
     "output_type": "execute_result"
    }
   ],
   "source": [
    "df_over['Dependents'].value_counts()"
   ]
  },
  {
   "cell_type": "code",
   "execution_count": 41,
   "metadata": {},
   "outputs": [
    {
     "data": {
      "text/plain": [
       "<matplotlib.axes._subplots.AxesSubplot at 0x292bbbc8710>"
      ]
     },
     "execution_count": 41,
     "metadata": {},
     "output_type": "execute_result"
    },
    {
     "data": {
      "image/png": "[encoded data removed]",
      "text/plain": [
       "<Figure size 432x288 with 1 Axes>"
      ]
     },
     "metadata": {},
     "output_type": "display_data"
    }
   ],
   "source": [
    "df_over['Dependents'].value_counts().plot.bar()"
   ]
  },
  {
   "cell_type": "code",
   "execution_count": 42,
   "metadata": {},
   "outputs": [
    {
     "data": {
      "text/plain": [
       "0     247\n",
       "2      76\n",
       "1      66\n",
       "3+     33\n",
       "Name: Dependents, dtype: int64"
      ]
     },
     "execution_count": 42,
     "metadata": {},
     "output_type": "execute_result"
    }
   ],
   "source": [
    "df_over[df_over['Loan_Status']=='Y']['Dependents'].value_counts()"
   ]
  },
  {
   "cell_type": "code",
   "execution_count": 43,
   "metadata": {},
   "outputs": [
    {
     "data": {
      "text/plain": [
       "0     262\n",
       "1      70\n",
       "2      54\n",
       "3+     36\n",
       "Name: Dependents, dtype: int64"
      ]
     },
     "execution_count": 43,
     "metadata": {},
     "output_type": "execute_result"
    }
   ],
   "source": [
    "df_over[df_over['Loan_Status']=='N']['Dependents'].value_counts()"
   ]
  },
  {
   "cell_type": "code",
   "execution_count": 44,
   "metadata": {},
   "outputs": [
    {
     "data": {
      "text/plain": [
       "<matplotlib.axes._subplots.AxesSubplot at 0x292bbc2e940>"
      ]
     },
     "execution_count": 44,
     "metadata": {},
     "output_type": "execute_result"
    },
    {
     "data": {
      "image/png": "[encoded data removed]",
      "text/plain": [
       "<Figure size 432x288 with 1 Axes>"
      ]
     },
     "metadata": {},
     "output_type": "display_data"
    }
   ],
   "source": [
    "df_over[df_over['Loan_Status']=='Y']['Dependents'].value_counts().plot.bar()"
   ]
  },
  {
   "cell_type": "code",
   "execution_count": 45,
   "metadata": {},
   "outputs": [
    {
     "data": {
      "text/plain": [
       "<matplotlib.axes._subplots.AxesSubplot at 0x292bbc83860>"
      ]
     },
     "execution_count": 45,
     "metadata": {},
     "output_type": "execute_result"
    },
    {
     "data": {
      "image/png": "[encoded data removed]",
      "text/plain": [
       "<Figure size 432x288 with 1 Axes>"
      ]
     },
     "metadata": {},
     "output_type": "display_data"
    }
   ],
   "source": [
    "df_over[df_over['Loan_Status']=='N']['Dependents'].value_counts().plot.bar()"
   ]
  },
  {
   "cell_type": "code",
   "execution_count": 46,
   "metadata": {},
   "outputs": [],
   "source": [
    "a=(247/(513))*100\n",
    "b=76/128*100\n",
    "c=66/128*100\n",
    "d=33/75*100"
   ]
  },
  {
   "cell_type": "code",
   "execution_count": 47,
   "metadata": {},
   "outputs": [
    {
     "name": "stdout",
     "output_type": "stream",
     "text": [
      "Percentage of people with 0 dependents who got loan approved :  48.148148148148145\n",
      "Percentage of people with 1 dependents who got loan approved :  59.375\n",
      "Percentage of people with 2 dependentswho got loan approved :  51.5625\n",
      "Percentage of people with 3+ dependents who got loan approved :  44.0\n"
     ]
    }
   ],
   "source": [
    "print('Percentage of people with 0 dependents who got loan approved : ',a)\n",
    "print('Percentage of people with 1 dependents who got loan approved : ',b)\n",
    "print('Percentage of people with 2 dependentswho got loan approved : ',c)\n",
    "print('Percentage of people with 3+ dependents who got loan approved : ',d)"
   ]
  },
  {
   "cell_type": "raw",
   "metadata": {},
   "source": [
    "This is not giving any clear idea about relation between dependents and loan approval. "
   ]
  },
  {
   "cell_type": "code",
   "execution_count": 48,
   "metadata": {},
   "outputs": [
    {
     "data": {
      "text/plain": [
       "Graduate        642\n",
       "Not Graduate    202\n",
       "Name: Education, dtype: int64"
      ]
     },
     "execution_count": 48,
     "metadata": {},
     "output_type": "execute_result"
    }
   ],
   "source": [
    "df_over['Education'].value_counts()"
   ]
  },
  {
   "cell_type": "code",
   "execution_count": 49,
   "metadata": {},
   "outputs": [
    {
     "data": {
      "text/plain": [
       "<matplotlib.axes._subplots.AxesSubplot at 0x292bbce7710>"
      ]
     },
     "execution_count": 49,
     "metadata": {},
     "output_type": "execute_result"
    },
    {
     "data": {
      "image/png": "[encoded data removed]",
      "text/plain": [
       "<Figure size 432x288 with 1 Axes>"
      ]
     },
     "metadata": {},
     "output_type": "display_data"
    }
   ],
   "source": [
    "df_over['Education'].value_counts().plot.bar()"
   ]
  },
  {
   "cell_type": "code",
   "execution_count": 50,
   "metadata": {},
   "outputs": [
    {
     "data": {
      "text/plain": [
       "Graduate        340\n",
       "Not Graduate     82\n",
       "Name: Education, dtype: int64"
      ]
     },
     "execution_count": 50,
     "metadata": {},
     "output_type": "execute_result"
    }
   ],
   "source": [
    "df_over[df_over['Loan_Status']=='Y']['Education'].value_counts()"
   ]
  },
  {
   "cell_type": "code",
   "execution_count": 51,
   "metadata": {},
   "outputs": [
    {
     "data": {
      "text/plain": [
       "Graduate        302\n",
       "Not Graduate    120\n",
       "Name: Education, dtype: int64"
      ]
     },
     "execution_count": 51,
     "metadata": {},
     "output_type": "execute_result"
    }
   ],
   "source": [
    "df_over[df_over['Loan_Status']=='N']['Education'].value_counts()"
   ]
  },
  {
   "cell_type": "code",
   "execution_count": 52,
   "metadata": {},
   "outputs": [
    {
     "data": {
      "text/plain": [
       "<matplotlib.axes._subplots.AxesSubplot at 0x292bbd4cb00>"
      ]
     },
     "execution_count": 52,
     "metadata": {},
     "output_type": "execute_result"
    },
    {
     "data": {
      "image/png": "[encoded data removed]",
      "text/plain": [
       "<Figure size 432x288 with 1 Axes>"
      ]
     },
     "metadata": {},
     "output_type": "display_data"
    }
   ],
   "source": [
    "df_over[df_over['Loan_Status']=='Y']['Education'].value_counts().plot.bar()"
   ]
  },
  {
   "cell_type": "code",
   "execution_count": 53,
   "metadata": {},
   "outputs": [
    {
     "data": {
      "text/plain": [
       "<matplotlib.axes._subplots.AxesSubplot at 0x292bbdabbe0>"
      ]
     },
     "execution_count": 53,
     "metadata": {},
     "output_type": "execute_result"
    },
    {
     "data": {
      "image/png": "[encoded data removed]",
      "text/plain": [
       "<Figure size 432x288 with 1 Axes>"
      ]
     },
     "metadata": {},
     "output_type": "display_data"
    }
   ],
   "source": [
    "df_over[df_over['Loan_Status']=='N']['Education'].value_counts().plot.bar()"
   ]
  },
  {
   "cell_type": "code",
   "execution_count": 54,
   "metadata": {},
   "outputs": [],
   "source": [
    "a=340/641*100\n",
    "b=82/203*100"
   ]
  },
  {
   "cell_type": "code",
   "execution_count": 55,
   "metadata": {},
   "outputs": [
    {
     "name": "stdout",
     "output_type": "stream",
     "text": [
      "Percentage of people with graduation who got loan approved :  53.042121684867396\n",
      "Percentage of people with no graduation who got loan approved :  40.39408866995074\n"
     ]
    }
   ],
   "source": [
    "print('Percentage of people with graduation who got loan approved : ',a)\n",
    "print('Percentage of people with no graduation who got loan approved : ',b)"
   ]
  },
  {
   "cell_type": "raw",
   "metadata": {},
   "source": [
    "There is a clear inference that people with Graduation are given preference over non-graduates"
   ]
  },
  {
   "cell_type": "code",
   "execution_count": 56,
   "metadata": {},
   "outputs": [
    {
     "data": {
      "text/plain": [
       "No     732\n",
       "Yes    112\n",
       "Name: Self_Employed, dtype: int64"
      ]
     },
     "execution_count": 56,
     "metadata": {},
     "output_type": "execute_result"
    }
   ],
   "source": [
    "df_over['Self_Employed'].value_counts()"
   ]
  },
  {
   "cell_type": "code",
   "execution_count": 57,
   "metadata": {},
   "outputs": [
    {
     "data": {
      "text/plain": [
       "<matplotlib.axes._subplots.AxesSubplot at 0x292bbdfe518>"
      ]
     },
     "execution_count": 57,
     "metadata": {},
     "output_type": "execute_result"
    },
    {
     "data": {
      "image/png": "[encoded data removed]",
      "text/plain": [
       "<Figure size 432x288 with 1 Axes>"
      ]
     },
     "metadata": {},
     "output_type": "display_data"
    }
   ],
   "source": [
    "df_over['Self_Employed'].value_counts().plot.bar()"
   ]
  },
  {
   "cell_type": "code",
   "execution_count": 58,
   "metadata": {},
   "outputs": [
    {
     "data": {
      "text/plain": [
       "No     366\n",
       "Yes     56\n",
       "Name: Self_Employed, dtype: int64"
      ]
     },
     "execution_count": 58,
     "metadata": {},
     "output_type": "execute_result"
    }
   ],
   "source": [
    "df_over[df_over['Loan_Status']=='Y']['Self_Employed'].value_counts()"
   ]
  },
  {
   "cell_type": "code",
   "execution_count": 59,
   "metadata": {},
   "outputs": [
    {
     "data": {
      "text/plain": [
       "No     366\n",
       "Yes     56\n",
       "Name: Self_Employed, dtype: int64"
      ]
     },
     "execution_count": 59,
     "metadata": {},
     "output_type": "execute_result"
    }
   ],
   "source": [
    "df_over[df_over['Loan_Status']=='N']['Self_Employed'].value_counts()"
   ]
  },
  {
   "cell_type": "code",
   "execution_count": 60,
   "metadata": {},
   "outputs": [],
   "source": [
    "a = 366/726*100\n",
    "b=56/118*100"
   ]
  },
  {
   "cell_type": "code",
   "execution_count": 61,
   "metadata": {},
   "outputs": [
    {
     "name": "stdout",
     "output_type": "stream",
     "text": [
      "Percentage of people who were not self employed got loan approved :  50.413223140495866\n",
      "Percentage of people who were self employed got loan approved :  47.45762711864407\n"
     ]
    }
   ],
   "source": [
    "print('Percentage of people who were not self employed got loan approved : ',a)\n",
    "print('Percentage of people who were self employed got loan approved : ',b)"
   ]
  },
  {
   "cell_type": "raw",
   "metadata": {},
   "source": [
    "Employment type has little effect on target"
   ]
  },
  {
   "cell_type": "code",
   "execution_count": 62,
   "metadata": {},
   "outputs": [
    {
     "data": {
      "text/plain": [
       "1.0    653\n",
       "0.0    191\n",
       "Name: Credit_History, dtype: int64"
      ]
     },
     "execution_count": 62,
     "metadata": {},
     "output_type": "execute_result"
    }
   ],
   "source": [
    "df_over['Credit_History'].value_counts()"
   ]
  },
  {
   "cell_type": "code",
   "execution_count": 63,
   "metadata": {},
   "outputs": [
    {
     "data": {
      "text/plain": [
       "1.0    415\n",
       "0.0      7\n",
       "Name: Credit_History, dtype: int64"
      ]
     },
     "execution_count": 63,
     "metadata": {},
     "output_type": "execute_result"
    }
   ],
   "source": [
    "df_over[df_over['Loan_Status']=='Y']['Credit_History'].value_counts()"
   ]
  },
  {
   "cell_type": "code",
   "execution_count": 64,
   "metadata": {},
   "outputs": [
    {
     "data": {
      "text/plain": [
       "1.0    238\n",
       "0.0    184\n",
       "Name: Credit_History, dtype: int64"
      ]
     },
     "execution_count": 64,
     "metadata": {},
     "output_type": "execute_result"
    }
   ],
   "source": [
    "df_over[df_over['Loan_Status']=='N']['Credit_History'].value_counts()"
   ]
  },
  {
   "cell_type": "code",
   "execution_count": 65,
   "metadata": {},
   "outputs": [],
   "source": [
    "a = 415/651*100\n",
    "b = 7/193*100"
   ]
  },
  {
   "cell_type": "code",
   "execution_count": 66,
   "metadata": {},
   "outputs": [
    {
     "name": "stdout",
     "output_type": "stream",
     "text": [
      "Percentage of people who had credit history got loan approved :  63.74807987711214\n",
      "Percentage of people who did not had credit history got loan approved :  3.6269430051813467\n"
     ]
    }
   ],
   "source": [
    "print('Percentage of people who had credit history got loan approved : ',a)\n",
    "print('Percentage of people who did not had credit history got loan approved : ',b)"
   ]
  },
  {
   "cell_type": "raw",
   "metadata": {},
   "source": [
    "Whoa !! , Credit History has lot of effect on Loan Status"
   ]
  },
  {
   "cell_type": "code",
   "execution_count": 67,
   "metadata": {},
   "outputs": [
    {
     "data": {
      "text/plain": [
       "Urban        289\n",
       "Semiurban    284\n",
       "Rural        271\n",
       "Name: Property_Area, dtype: int64"
      ]
     },
     "execution_count": 67,
     "metadata": {},
     "output_type": "execute_result"
    }
   ],
   "source": [
    "df_over['Property_Area'].value_counts()"
   ]
  },
  {
   "cell_type": "code",
   "execution_count": 68,
   "metadata": {},
   "outputs": [
    {
     "data": {
      "text/plain": [
       "Semiurban    179\n",
       "Urban        133\n",
       "Rural        110\n",
       "Name: Property_Area, dtype: int64"
      ]
     },
     "execution_count": 68,
     "metadata": {},
     "output_type": "execute_result"
    }
   ],
   "source": [
    "df_over[df_over['Loan_Status']=='Y']['Property_Area'].value_counts()"
   ]
  },
  {
   "cell_type": "code",
   "execution_count": 69,
   "metadata": {},
   "outputs": [
    {
     "data": {
      "text/plain": [
       "Rural        161\n",
       "Urban        156\n",
       "Semiurban    105\n",
       "Name: Property_Area, dtype: int64"
      ]
     },
     "execution_count": 69,
     "metadata": {},
     "output_type": "execute_result"
    }
   ],
   "source": [
    "df_over[df_over['Loan_Status']=='N']['Property_Area'].value_counts()"
   ]
  },
  {
   "cell_type": "code",
   "execution_count": 70,
   "metadata": {},
   "outputs": [],
   "source": [
    "a = 179/291*100\n",
    "b = 133/284*100\n",
    "c = 110/269*100"
   ]
  },
  {
   "cell_type": "code",
   "execution_count": 71,
   "metadata": {},
   "outputs": [
    {
     "name": "stdout",
     "output_type": "stream",
     "text": [
      "Percentage of people who had property in Semi-Urban got loan approved :  61.512027491408936\n",
      "Percentage of people who property in Urban got loan approved :  46.83098591549296\n",
      "Percentage of people who property in Rural got loan approved :  40.89219330855018\n"
     ]
    }
   ],
   "source": [
    "print('Percentage of people who had property in Semi-Urban got loan approved : ',a)\n",
    "print('Percentage of people who property in Urban got loan approved : ',b)\n",
    "print('Percentage of people who property in Rural got loan approved : ',c)"
   ]
  },
  {
   "cell_type": "raw",
   "metadata": {},
   "source": [
    "This shows that there is some dependency on Property_Area"
   ]
  },
  {
   "cell_type": "raw",
   "metadata": {},
   "source": [
    "Now let's study the Numeric columns all at once"
   ]
  },
  {
   "cell_type": "raw",
   "metadata": {},
   "source": [
    " Let's find the skewness for all the numeric features at once"
   ]
  },
  {
   "cell_type": "code",
   "execution_count": 72,
   "metadata": {},
   "outputs": [
    {
     "data": {
      "text/plain": [
       "ApplicantIncome      7.158340\n",
       "CoapplicantIncome    7.386547\n",
       "LoanAmount           2.756662\n",
       "Loan_Amount_Term    -2.115112\n",
       "Credit_History      -1.310514\n",
       "dtype: float64"
      ]
     },
     "execution_count": 72,
     "metadata": {},
     "output_type": "execute_result"
    }
   ],
   "source": [
    "df_over.skew()"
   ]
  },
  {
   "cell_type": "raw",
   "metadata": {},
   "source": [
    "This shows that the features are skewed. Let's check out their respective distributions"
   ]
  },
  {
   "cell_type": "code",
   "execution_count": 73,
   "metadata": {},
   "outputs": [
    {
     "data": {
      "text/plain": [
       "array([[<matplotlib.axes._subplots.AxesSubplot object at 0x00000292BBE95C88>,\n",
       "        <matplotlib.axes._subplots.AxesSubplot object at 0x00000292BBEAB2B0>],\n",
       "       [<matplotlib.axes._subplots.AxesSubplot object at 0x00000292BBED3940>,\n",
       "        <matplotlib.axes._subplots.AxesSubplot object at 0x00000292BBEFDFD0>],\n",
       "       [<matplotlib.axes._subplots.AxesSubplot object at 0x00000292BBF2E6A0>,\n",
       "        <matplotlib.axes._subplots.AxesSubplot object at 0x00000292BBF2E6D8>]],\n",
       "      dtype=object)"
      ]
     },
     "execution_count": 73,
     "metadata": {},
     "output_type": "execute_result"
    },
    {
     "data": {
      "image/png": "[encoded data removed]",
      "text/plain": [
       "<Figure size 720x720 with 6 Axes>"
      ]
     },
     "metadata": {},
     "output_type": "display_data"
    }
   ],
   "source": [
    "plt.rcParams['figure.figsize'] = [10, 10]\n",
    "df_over.hist(bins=50)"
   ]
  },
  {
   "cell_type": "code",
   "execution_count": 74,
   "metadata": {},
   "outputs": [
    {
     "data": {
      "text/plain": [
       "<matplotlib.axes._subplots.AxesSubplot at 0x292bc4e0208>"
      ]
     },
     "execution_count": 74,
     "metadata": {},
     "output_type": "execute_result"
    },
    {
     "data": {
      "image/png": "[encoded data removed]",
      "text/plain": [
       "<Figure size 720x720 with 1 Axes>"
      ]
     },
     "metadata": {},
     "output_type": "display_data"
    }
   ],
   "source": [
    "df_over.boxplot()"
   ]
  },
  {
   "cell_type": "raw",
   "metadata": {},
   "source": [
    "It shows that ApplicantIncome and CoapplicantIncome has lot of outliers in extreme ends.\n",
    "\n",
    "Let's Study the impact of Education on Income and other explanatory features"
   ]
  },
  {
   "cell_type": "code",
   "execution_count": 75,
   "metadata": {},
   "outputs": [
    {
     "data": {
      "text/plain": [
       "array([[<matplotlib.axes._subplots.AxesSubplot object at 0x00000292BC255DD8>,\n",
       "        <matplotlib.axes._subplots.AxesSubplot object at 0x00000292BC676AC8>],\n",
       "       [<matplotlib.axes._subplots.AxesSubplot object at 0x00000292BC6A3EB8>,\n",
       "        <matplotlib.axes._subplots.AxesSubplot object at 0x00000292BC6D52E8>],\n",
       "       [<matplotlib.axes._subplots.AxesSubplot object at 0x00000292BC6FD6D8>,\n",
       "        <matplotlib.axes._subplots.AxesSubplot object at 0x00000292BC6FD710>]],\n",
       "      dtype=object)"
      ]
     },
     "execution_count": 75,
     "metadata": {},
     "output_type": "execute_result"
    },
    {
     "data": {
      "image/png": "[encoded data removed]",
      "text/plain": [
       "<Figure size 1440x1440 with 6 Axes>"
      ]
     },
     "metadata": {},
     "output_type": "display_data"
    }
   ],
   "source": [
    "plt.rcParams['figure.figsize'] = [20, 20]\n",
    "df_over.boxplot(by='Education')"
   ]
  },
  {
   "cell_type": "raw",
   "metadata": {},
   "source": [
    "It shows that ApplicantIncome and CoapplicantIncome are high for people with education"
   ]
  },
  {
   "cell_type": "code",
   "execution_count": 76,
   "metadata": {},
   "outputs": [
    {
     "data": {
      "text/plain": [
       "array([[<matplotlib.axes._subplots.AxesSubplot object at 0x00000292BD1B3B38>,\n",
       "        <matplotlib.axes._subplots.AxesSubplot object at 0x00000292BD1FC5C0>],\n",
       "       [<matplotlib.axes._subplots.AxesSubplot object at 0x00000292BC8B28D0>,\n",
       "        <matplotlib.axes._subplots.AxesSubplot object at 0x00000292BC8D8CC0>],\n",
       "       [<matplotlib.axes._subplots.AxesSubplot object at 0x00000292BC90C0F0>,\n",
       "        <matplotlib.axes._subplots.AxesSubplot object at 0x00000292BC90C128>]],\n",
       "      dtype=object)"
      ]
     },
     "execution_count": 76,
     "metadata": {},
     "output_type": "execute_result"
    },
    {
     "data": {
      "image/png": "[encoded data removed]",
      "text/plain": [
       "<Figure size 1440x1440 with 6 Axes>"
      ]
     },
     "metadata": {},
     "output_type": "display_data"
    }
   ],
   "source": [
    "df_over.boxplot(by='Dependents')"
   ]
  },
  {
   "cell_type": "code",
   "execution_count": 77,
   "metadata": {},
   "outputs": [
    {
     "data": {
      "text/plain": [
       "array([[<matplotlib.axes._subplots.AxesSubplot object at 0x00000292BCCA5128>,\n",
       "        <matplotlib.axes._subplots.AxesSubplot object at 0x00000292BCCD91D0>],\n",
       "       [<matplotlib.axes._subplots.AxesSubplot object at 0x00000292BCCFB5C0>,\n",
       "        <matplotlib.axes._subplots.AxesSubplot object at 0x00000292BCD249B0>],\n",
       "       [<matplotlib.axes._subplots.AxesSubplot object at 0x00000292BCD4CDA0>,\n",
       "        <matplotlib.axes._subplots.AxesSubplot object at 0x00000292BCD4CDD8>]],\n",
       "      dtype=object)"
      ]
     },
     "execution_count": 77,
     "metadata": {},
     "output_type": "execute_result"
    },
    {
     "data": {
      "image/png": "[encoded data removed]",
      "text/plain": [
       "<Figure size 1440x1440 with 6 Axes>"
      ]
     },
     "metadata": {},
     "output_type": "display_data"
    }
   ],
   "source": [
    "df_over.boxplot(by='Married')"
   ]
  },
  {
   "cell_type": "raw",
   "metadata": {},
   "source": [
    "First let's deal with skewness and outliers present in the features.\n",
    "\n",
    "Let's add ApplicantIncome and Co-ApplicantIncome to get Total_Income"
   ]
  },
  {
   "cell_type": "code",
   "execution_count": 125,
   "metadata": {},
   "outputs": [],
   "source": [
    "df_over['Total_Income'] = df_over['ApplicantIncome']+df_over['CoapplicantIncome']\n",
    "df_under['Total_Income'] = df_under['ApplicantIncome']+df_under['CoapplicantIncome']\n",
    "df['Total_Income'] = df['ApplicantIncome']+df['CoapplicantIncome']"
   ]
  },
  {
   "cell_type": "code",
   "execution_count": 79,
   "metadata": {},
   "outputs": [
    {
     "data": {
      "text/plain": [
       "<matplotlib.axes._subplots.AxesSubplot at 0x292bd7f15c0>"
      ]
     },
     "execution_count": 79,
     "metadata": {},
     "output_type": "execute_result"
    },
    {
     "data": {
      "image/png": "[encoded data removed]",
      "text/plain": [
       "<Figure size 360x360 with 1 Axes>"
      ]
     },
     "metadata": {},
     "output_type": "display_data"
    }
   ],
   "source": [
    "plt.rcParams['figure.figsize'] = [5, 5]\n",
    "df_over['Total_Income'].hist()"
   ]
  },
  {
   "cell_type": "raw",
   "metadata": {},
   "source": [
    "Still the distribution is not normal and is skewed. We can use non-parametric methods \n",
    "in which we do not need to solve the issue of skewed distribution ,but we will log transform this total income feature for use in parametric methods"
   ]
  },
  {
   "cell_type": "code",
   "execution_count": 126,
   "metadata": {},
   "outputs": [],
   "source": [
    "df_over['Total_Income_log'] = np.log(df_over['Total_Income'])\n",
    "df_under['Total_Income_log'] = np.log(df_under['Total_Income'])\n",
    "df['Total_Income_log'] = np.log(df['Total_Income'])"
   ]
  },
  {
   "cell_type": "code",
   "execution_count": 81,
   "metadata": {},
   "outputs": [
    {
     "name": "stdout",
     "output_type": "stream",
     "text": [
      "Skewness 1.0961509676400059\n"
     ]
    },
    {
     "data": {
      "image/png": "[encoded data removed]",
      "text/plain": [
       "<Figure size 360x360 with 1 Axes>"
      ]
     },
     "metadata": {},
     "output_type": "display_data"
    }
   ],
   "source": [
    "df_over['Total_Income_log'].hist()\n",
    "print('Skewness',df_over['Total_Income_log'].skew())"
   ]
  },
  {
   "cell_type": "raw",
   "metadata": {},
   "source": [
    "Now this is somehow close to a normal distribution. Let's take a look at the dataset now."
   ]
  },
  {
   "cell_type": "code",
   "execution_count": 87,
   "metadata": {},
   "outputs": [
    {
     "data": {
      "text/html": [
       "<div>\n",
       "<style scoped>\n",
       "    .dataframe tbody tr th:only-of-type {\n",
       "        vertical-align: middle;\n",
       "    }\n",
       "\n",
       "    .dataframe tbody tr th {\n",
       "        vertical-align: top;\n",
       "    }\n",
       "\n",
       "    .dataframe thead th {\n",
       "        text-align: right;\n",
       "    }\n",
       "</style>\n",
       "<table border=\"1\" class=\"dataframe\">\n",
       "  <thead>\n",
       "    <tr style=\"text-align: right;\">\n",
       "      <th></th>\n",
       "      <th>Gender</th>\n",
       "      <th>Married</th>\n",
       "      <th>Dependents</th>\n",
       "      <th>Education</th>\n",
       "      <th>Self_Employed</th>\n",
       "      <th>ApplicantIncome</th>\n",
       "      <th>CoapplicantIncome</th>\n",
       "      <th>LoanAmount</th>\n",
       "      <th>Loan_Amount_Term</th>\n",
       "      <th>Credit_History</th>\n",
       "      <th>Property_Area</th>\n",
       "      <th>Loan_Status</th>\n",
       "      <th>Total_Income</th>\n",
       "      <th>Total_Income_log</th>\n",
       "    </tr>\n",
       "  </thead>\n",
       "  <tbody>\n",
       "    <tr>\n",
       "      <th>0</th>\n",
       "      <td>1</td>\n",
       "      <td>0</td>\n",
       "      <td>0</td>\n",
       "      <td>0</td>\n",
       "      <td>0</td>\n",
       "      <td>5849</td>\n",
       "      <td>0.0</td>\n",
       "      <td>146.576923</td>\n",
       "      <td>360.0</td>\n",
       "      <td>1</td>\n",
       "      <td>2</td>\n",
       "      <td>1</td>\n",
       "      <td>5849.0</td>\n",
       "      <td>8.674026</td>\n",
       "    </tr>\n",
       "    <tr>\n",
       "      <th>2</th>\n",
       "      <td>1</td>\n",
       "      <td>1</td>\n",
       "      <td>0</td>\n",
       "      <td>0</td>\n",
       "      <td>1</td>\n",
       "      <td>3000</td>\n",
       "      <td>0.0</td>\n",
       "      <td>66.000000</td>\n",
       "      <td>360.0</td>\n",
       "      <td>1</td>\n",
       "      <td>2</td>\n",
       "      <td>1</td>\n",
       "      <td>3000.0</td>\n",
       "      <td>8.006368</td>\n",
       "    </tr>\n",
       "    <tr>\n",
       "      <th>3</th>\n",
       "      <td>1</td>\n",
       "      <td>1</td>\n",
       "      <td>0</td>\n",
       "      <td>1</td>\n",
       "      <td>0</td>\n",
       "      <td>2583</td>\n",
       "      <td>2358.0</td>\n",
       "      <td>120.000000</td>\n",
       "      <td>360.0</td>\n",
       "      <td>1</td>\n",
       "      <td>2</td>\n",
       "      <td>1</td>\n",
       "      <td>4941.0</td>\n",
       "      <td>8.505323</td>\n",
       "    </tr>\n",
       "    <tr>\n",
       "      <th>4</th>\n",
       "      <td>1</td>\n",
       "      <td>0</td>\n",
       "      <td>0</td>\n",
       "      <td>0</td>\n",
       "      <td>0</td>\n",
       "      <td>6000</td>\n",
       "      <td>0.0</td>\n",
       "      <td>141.000000</td>\n",
       "      <td>360.0</td>\n",
       "      <td>1</td>\n",
       "      <td>2</td>\n",
       "      <td>1</td>\n",
       "      <td>6000.0</td>\n",
       "      <td>8.699515</td>\n",
       "    </tr>\n",
       "    <tr>\n",
       "      <th>5</th>\n",
       "      <td>1</td>\n",
       "      <td>1</td>\n",
       "      <td>2</td>\n",
       "      <td>0</td>\n",
       "      <td>1</td>\n",
       "      <td>5417</td>\n",
       "      <td>4196.0</td>\n",
       "      <td>267.000000</td>\n",
       "      <td>360.0</td>\n",
       "      <td>1</td>\n",
       "      <td>2</td>\n",
       "      <td>1</td>\n",
       "      <td>9613.0</td>\n",
       "      <td>9.170872</td>\n",
       "    </tr>\n",
       "  </tbody>\n",
       "</table>\n",
       "</div>"
      ],
      "text/plain": [
       "   Gender  Married  Dependents  Education  Self_Employed  ApplicantIncome  \\\n",
       "0       1        0           0          0              0             5849   \n",
       "2       1        1           0          0              1             3000   \n",
       "3       1        1           0          1              0             2583   \n",
       "4       1        0           0          0              0             6000   \n",
       "5       1        1           2          0              1             5417   \n",
       "\n",
       "   CoapplicantIncome  LoanAmount  Loan_Amount_Term  Credit_History  \\\n",
       "0                0.0  146.576923             360.0               1   \n",
       "2                0.0   66.000000             360.0               1   \n",
       "3             2358.0  120.000000             360.0               1   \n",
       "4                0.0  141.000000             360.0               1   \n",
       "5             4196.0  267.000000             360.0               1   \n",
       "\n",
       "   Property_Area  Loan_Status  Total_Income  Total_Income_log  \n",
       "0              2            1        5849.0          8.674026  \n",
       "2              2            1        3000.0          8.006368  \n",
       "3              2            1        4941.0          8.505323  \n",
       "4              2            1        6000.0          8.699515  \n",
       "5              2            1        9613.0          9.170872  "
      ]
     },
     "execution_count": 87,
     "metadata": {},
     "output_type": "execute_result"
    }
   ],
   "source": [
    "df_over.head()"
   ]
  },
  {
   "cell_type": "code",
   "execution_count": 127,
   "metadata": {},
   "outputs": [],
   "source": [
    "cat_vars=['Gender', 'Married', 'Dependents', 'Education',\n",
    "       'Self_Employed','Credit_History', 'Property_Area', 'Loan_Status']\n",
    "from sklearn.preprocessing import LabelEncoder #needed for label encoding the categorical variables\n",
    "encoder = LabelEncoder()\n",
    "for i in cat_vars:\n",
    "    df_over[i]=encoder.fit_transform(df_over[i])\n",
    "for i in cat_vars:\n",
    "    df_under[i]=encoder.fit_transform(df_under[i])\n",
    "for i in cat_vars:\n",
    "    df[i]=encoder.fit_transform(df[i])"
   ]
  },
  {
   "cell_type": "code",
   "execution_count": 128,
   "metadata": {},
   "outputs": [
    {
     "name": "stdout",
     "output_type": "stream",
     "text": [
      "      Loan_ID  Gender  Married  Dependents  Education  Self_Employed  \\\n",
      "116  LP001404       0        1           0          0              0   \n",
      "350  LP002139       1        1           0          0              0   \n",
      "455  LP002455       1        1           2          0              0   \n",
      "278  LP001907       1        1           0          0              0   \n",
      "442  LP002418       1        0           3          1              0   \n",
      "\n",
      "     ApplicantIncome  CoapplicantIncome  LoanAmount  Loan_Amount_Term  \\\n",
      "116             3167             2283.0       154.0             360.0   \n",
      "350             9083                0.0       228.0             360.0   \n",
      "455             3859                0.0        96.0             360.0   \n",
      "278            14583                0.0       436.0             360.0   \n",
      "442             4707             1993.0       148.0             360.0   \n",
      "\n",
      "     Credit_History  Property_Area  Loan_Status  Total_Income  \\\n",
      "116               1              1            1        5450.0   \n",
      "350               1              1            1        9083.0   \n",
      "455               1              1            1        3859.0   \n",
      "278               1              1            1       14583.0   \n",
      "442               1              1            1        6700.0   \n",
      "\n",
      "     Total_Income_log  \n",
      "116          8.603371  \n",
      "350          9.114160  \n",
      "455          8.258163  \n",
      "278          9.587612  \n",
      "442          8.809863  \n",
      "    Loan_ID  Gender  Married  Dependents  Education  Self_Employed  \\\n",
      "0  LP001002       1        0           0          0              0   \n",
      "1  LP001003       1        1           1          0              0   \n",
      "2  LP001005       1        1           0          0              1   \n",
      "3  LP001006       1        1           0          1              0   \n",
      "4  LP001008       1        0           0          0              0   \n",
      "\n",
      "   ApplicantIncome  CoapplicantIncome  LoanAmount  Loan_Amount_Term  \\\n",
      "0             5849                0.0  146.412162             360.0   \n",
      "1             4583             1508.0  128.000000             360.0   \n",
      "2             3000                0.0   66.000000             360.0   \n",
      "3             2583             2358.0  120.000000             360.0   \n",
      "4             6000                0.0  141.000000             360.0   \n",
      "\n",
      "   Credit_History  Property_Area  Loan_Status  Total_Income  Total_Income_log  \n",
      "0               1              2            1        5849.0          8.674026  \n",
      "1               1              0            0        6091.0          8.714568  \n",
      "2               1              2            1        3000.0          8.006368  \n",
      "3               1              2            1        4941.0          8.505323  \n",
      "4               1              2            1        6000.0          8.699515  \n"
     ]
    }
   ],
   "source": [
    "df_over.head()\n",
    "print(df_under.head())\n",
    "print(df.head())"
   ]
  },
  {
   "cell_type": "raw",
   "metadata": {},
   "source": [
    "Now, We encoded all the categorical variables.\n",
    "\n",
    "Let's start modelling now with Random Forest\n",
    "\n",
    "Let's see the feature importance too."
   ]
  },
  {
   "cell_type": "code",
   "execution_count": 93,
   "metadata": {},
   "outputs": [
    {
     "data": {
      "text/plain": [
       "Index(['Gender', 'Married', 'Dependents', 'Education', 'Self_Employed',\n",
       "       'ApplicantIncome', 'CoapplicantIncome', 'LoanAmount',\n",
       "       'Loan_Amount_Term', 'Credit_History', 'Property_Area', 'Loan_Status',\n",
       "       'Total_Income', 'Total_Income_log'],\n",
       "      dtype='object')"
      ]
     },
     "execution_count": 93,
     "metadata": {},
     "output_type": "execute_result"
    }
   ],
   "source": [
    "df_over.columns"
   ]
  },
  {
   "cell_type": "code",
   "execution_count": 129,
   "metadata": {},
   "outputs": [],
   "source": [
    "x_over=df_over[['Gender', 'Married', 'Dependents', 'Education', 'Self_Employed','Total_Income_log','LoanAmount',\n",
    "       'Loan_Amount_Term', 'Credit_History', 'Property_Area']]\n",
    "x_under=df_under[['Gender', 'Married', 'Dependents', 'Education', 'Self_Employed','Total_Income_log','LoanAmount',\n",
    "       'Loan_Amount_Term', 'Credit_History', 'Property_Area']]\n",
    "y_over=df_over['Loan_Status']\n",
    "y_under=df_under['Loan_Status']\n",
    "x=df[['Gender', 'Married', 'Dependents', 'Education', 'Self_Employed','Total_Income_log','LoanAmount',\n",
    "       'Loan_Amount_Term', 'Credit_History', 'Property_Area']]\n",
    "y=df['Loan_Status']"
   ]
  },
  {
   "cell_type": "code",
   "execution_count": 101,
   "metadata": {},
   "outputs": [],
   "source": [
    "from sklearn.model_selection import train_test_split\n",
    "x_over_train,x_over_test,y_over_train,y_over_test = train_test_split(x_over,y_over,test_size=0.2,random_state=3)\n",
    "x_under_train,x_under_test,y_under_train,y_under_test = train_test_split(x_under,y_under,test_size=0.2,random_state=3)"
   ]
  },
  {
   "cell_type": "code",
   "execution_count": 130,
   "metadata": {},
   "outputs": [],
   "source": [
    "x_train,x_test,y_train,y_test = train_test_split(x,y,test_size=0.2,random_state=3)"
   ]
  },
  {
   "cell_type": "code",
   "execution_count": 133,
   "metadata": {},
   "outputs": [
    {
     "name": "stdout",
     "output_type": "stream",
     "text": [
      "Accuracy Score is : 0.8816568047337278\n",
      "Classification_Report\n",
      "              precision    recall  f1-score   support\n",
      "\n",
      "          0       0.94      0.84      0.88        91\n",
      "          1       0.83      0.94      0.88        78\n",
      "\n",
      "avg / total       0.89      0.88      0.88       169\n",
      "\n",
      "confusion_matrix\n",
      " [[76 15]\n",
      " [ 5 73]]\n"
     ]
    }
   ],
   "source": [
    "from sklearn.ensemble import RandomForestClassifier\n",
    "from sklearn.metrics import accuracy_score,classification_report,confusion_matrix\n",
    "model=RandomForestClassifier(n_estimators=15,random_state=3)\n",
    "model.fit(x_over_train,y_over_train)\n",
    "y_over_pred=model.predict(x_over_test)\n",
    "print(\"Accuracy Score is :\",accuracy_score(y_over_pred,y_over_test))\n",
    "print(\"Classification_Report\\n\",classification_report(y_over_pred,y_over_test))\n",
    "print(\"confusion_matrix\\n\",confusion_matrix(y_over_pred,y_over_test))"
   ]
  },
  {
   "cell_type": "code",
   "execution_count": 134,
   "metadata": {},
   "outputs": [
    {
     "name": "stdout",
     "output_type": "stream",
     "text": [
      "Accuracy Score is : 0.6753246753246753\n",
      "Classification_Report\n",
      "              precision    recall  f1-score   support\n",
      "\n",
      "          0       0.68      0.70      0.69        40\n",
      "          1       0.67      0.65      0.66        37\n",
      "\n",
      "avg / total       0.68      0.68      0.68        77\n",
      "\n",
      "confusion_matrix\n",
      " [[28 12]\n",
      " [13 24]]\n"
     ]
    }
   ],
   "source": [
    "model=RandomForestClassifier(n_estimators=15,random_state=3)\n",
    "model.fit(x_under_train,y_under_train)\n",
    "y_under_pred=model.predict(x_under_test)\n",
    "print(\"Accuracy Score is :\",accuracy_score(y_under_pred,y_under_test))\n",
    "print(\"Classification_Report\\n\",classification_report(y_under_pred,y_under_test))\n",
    "print(\"confusion_matrix\\n\",confusion_matrix(y_under_pred,y_under_test))"
   ]
  },
  {
   "cell_type": "code",
   "execution_count": 135,
   "metadata": {},
   "outputs": [
    {
     "name": "stdout",
     "output_type": "stream",
     "text": [
      "Accuracy Score is : 0.8130081300813008\n",
      "Classification_Report\n",
      "              precision    recall  f1-score   support\n",
      "\n",
      "          0       0.54      0.60      0.57        25\n",
      "          1       0.89      0.87      0.88        98\n",
      "\n",
      "avg / total       0.82      0.81      0.82       123\n",
      "\n",
      "confusion_matrix\n",
      " [[15 10]\n",
      " [13 85]]\n"
     ]
    }
   ],
   "source": [
    "model=RandomForestClassifier(n_estimators=15,random_state=3)\n",
    "model.fit(x_train,y_train)\n",
    "y_pred=model.predict(x_test)\n",
    "print(\"Accuracy Score is :\",accuracy_score(y_pred,y_test))\n",
    "print(\"Classification_Report\\n\",classification_report(y_pred,y_test))\n",
    "print(\"confusion_matrix\\n\",confusion_matrix(y_pred,y_test))"
   ]
  },
  {
   "cell_type": "raw",
   "metadata": {},
   "source": [
    "Based on the results from the Random-Forest classifier and classification report Precision and recall value \n",
    "or F1-Score, We can say that the over-sampled dataset is performing quite well.\n",
    "\n",
    "Now let's use RandomForestClassifier with class_Weight on original imbalanced dataset."
   ]
  },
  {
   "cell_type": "code",
   "execution_count": 138,
   "metadata": {},
   "outputs": [
    {
     "name": "stdout",
     "output_type": "stream",
     "text": [
      "Accuracy Score is : 0.8048780487804879\n",
      "Classification_Report\n",
      "              precision    recall  f1-score   support\n",
      "\n",
      "          0       0.46      0.59      0.52        22\n",
      "          1       0.91      0.85      0.88       101\n",
      "\n",
      "avg / total       0.83      0.80      0.81       123\n",
      "\n",
      "confusion_matrix\n",
      " [[13  9]\n",
      " [15 86]]\n"
     ]
    }
   ],
   "source": [
    "model=RandomForestClassifier(n_estimators=15,random_state=3,class_weight=\"balanced\")\n",
    "model.fit(x_train,y_train)\n",
    "y_pred=model.predict(x_test)\n",
    "print(\"Accuracy Score is :\",accuracy_score(y_pred,y_test))\n",
    "print(\"Classification_Report\\n\",classification_report(y_pred,y_test))\n",
    "print(\"confusion_matrix\\n\",confusion_matrix(y_pred,y_test))"
   ]
  },
  {
   "cell_type": "raw",
   "metadata": {},
   "source": [
    "No Improvement !!!"
   ]
  },
  {
   "cell_type": "raw",
   "metadata": {},
   "source": [
    "Now, let's try GBM"
   ]
  },
  {
   "cell_type": "code",
   "execution_count": 143,
   "metadata": {},
   "outputs": [
    {
     "name": "stdout",
     "output_type": "stream",
     "text": [
      "Accuracy Score is : 0.8284023668639053\n",
      "Classification_Report\n",
      "              precision    recall  f1-score   support\n",
      "\n",
      "          0       0.75      0.87      0.81        70\n",
      "          1       0.90      0.80      0.84        99\n",
      "\n",
      "avg / total       0.84      0.83      0.83       169\n",
      "\n",
      "confusion_matrix\n",
      " [[61  9]\n",
      " [20 79]]\n"
     ]
    }
   ],
   "source": [
    "from sklearn.ensemble import GradientBoostingClassifier\n",
    "model = GradientBoostingClassifier(random_state=3)\n",
    "model.fit(x_over_train,y_over_train)\n",
    "y_over_pred=model.predict(x_over_test)\n",
    "print(\"Accuracy Score is :\",accuracy_score(y_over_pred,y_over_test))\n",
    "print(\"Classification_Report\\n\",classification_report(y_over_pred,y_over_test))\n",
    "print(\"confusion_matrix\\n\",confusion_matrix(y_over_pred,y_over_test))"
   ]
  },
  {
   "cell_type": "code",
   "execution_count": 144,
   "metadata": {},
   "outputs": [
    {
     "name": "stdout",
     "output_type": "stream",
     "text": [
      "Accuracy Score is : 0.6493506493506493\n",
      "Classification_Report\n",
      "              precision    recall  f1-score   support\n",
      "\n",
      "          0       0.61      0.69      0.65        36\n",
      "          1       0.69      0.61      0.65        41\n",
      "\n",
      "avg / total       0.65      0.65      0.65        77\n",
      "\n",
      "confusion_matrix\n",
      " [[25 11]\n",
      " [16 25]]\n"
     ]
    }
   ],
   "source": [
    "model.fit(x_under_train,y_under_train)\n",
    "y_under_pred=model.predict(x_under_test)\n",
    "print(\"Accuracy Score is :\",accuracy_score(y_under_pred,y_under_test))\n",
    "print(\"Classification_Report\\n\",classification_report(y_under_pred,y_under_test))\n",
    "print(\"confusion_matrix\\n\",confusion_matrix(y_under_pred,y_under_test))"
   ]
  },
  {
   "cell_type": "code",
   "execution_count": 145,
   "metadata": {},
   "outputs": [
    {
     "name": "stdout",
     "output_type": "stream",
     "text": [
      "Accuracy Score is : 0.8211382113821138\n",
      "Classification_Report\n",
      "              precision    recall  f1-score   support\n",
      "\n",
      "          0       0.46      0.65      0.54        20\n",
      "          1       0.93      0.85      0.89       103\n",
      "\n",
      "avg / total       0.85      0.82      0.83       123\n",
      "\n",
      "confusion_matrix\n",
      " [[13  7]\n",
      " [15 88]]\n"
     ]
    }
   ],
   "source": [
    "model.fit(x_train,y_train)\n",
    "y_pred=model.predict(x_test)\n",
    "print(\"Accuracy Score is :\",accuracy_score(y_pred,y_test))\n",
    "print(\"Classification_Report\\n\",classification_report(y_pred,y_test))\n",
    "print(\"confusion_matrix\\n\",confusion_matrix(y_pred,y_test))"
   ]
  },
  {
   "cell_type": "code",
   "execution_count": null,
   "metadata": {},
   "outputs": [],
   "source": []
  }
 ],
 "metadata": {
  "kernelspec": {
   "display_name": "Python 3",
   "language": "python",
   "name": "python3"
  },
  "language_info": {
   "codemirror_mode": {
    "name": "ipython",
    "version": 3
   },
   "file_extension": ".py",
   "mimetype": "text/x-python",
   "name": "python",
   "nbconvert_exporter": "python",
   "pygments_lexer": "ipython3",
   "version": "3.6.5"
  }
 },
 "nbformat": 4,
 "nbformat_minor": 2
}
